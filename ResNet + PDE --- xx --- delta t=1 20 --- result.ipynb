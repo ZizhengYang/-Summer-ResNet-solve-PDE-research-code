{
 "cells": [
  {
   "cell_type": "code",
   "execution_count": 1,
   "metadata": {},
   "outputs": [],
   "source": [
    "import numpy as np\n",
    "import random\n",
    "\n",
    "import torch\n",
    "import torch.nn as nn\n",
    "import torch.nn.functional as func\n",
    "import torch.optim as optim\n",
    "\n",
    "from matplotlib import pyplot as plt\n",
    "\n",
    "from numpy import exp,arange\n",
    "from pylab import meshgrid,cm,imshow,contour,clabel,colorbar,axis,title,show"
   ]
  },
  {
   "cell_type": "code",
   "execution_count": 2,
   "metadata": {},
   "outputs": [],
   "source": [
    "# ==========\n",
    "# helping methods\n",
    "# ==========\n",
    "\n",
    "# generate a list from lower and upper bound\n",
    "def gen_list(p0, pn, delta, dig=5):\n",
    "    ret = []\n",
    "    i = p0\n",
    "    while i < pn:\n",
    "        ret.append(float(i))\n",
    "        i += delta\n",
    "        i = round(i, dig)\n",
    "    return ret\n",
    "\n",
    "# padding and zero padding\n",
    "def padding(origin, a_list, b_list):\n",
    "    return np.hstack((a_list, origin, b_list))\n",
    "\n",
    "def zero_padding(origin, num):\n",
    "    zero_list = [0 for i in range(num)]\n",
    "    return padding(origin, zero_list, zero_list)\n",
    "\n",
    "# trainning pairs\n",
    "def gen_pair(u, x, t, length=3, num=1000):\n",
    "    pairs = []\n",
    "    for i in range(num):\n",
    "        r = random.randint(0, t-2)\n",
    "        current_t = u[r]\n",
    "        next_t = u[r+1]\n",
    "        p = random.randint(length, x-1-length)\n",
    "        train = current_t[p-length:p+length+1]\n",
    "        solu = next_t[p]\n",
    "        pair = {'input': train, 'solu': solu}\n",
    "        pairs.append(pair)\n",
    "    return pairs\n",
    "\n",
    "# trainning pairs (in average)\n",
    "def gen_pair_ave(u, x, t, length=3, num=1000):\n",
    "    pairs = []\n",
    "    for i in range(num):\n",
    "        r = random.randint(0, t-2)\n",
    "        current_t = u[r]\n",
    "        next_t = u[r+1]\n",
    "        p = random.randint(length, x-2-length)\n",
    "        train0 = current_t[p-length-1:p+length+2]\n",
    "        solu1 = next_t[p]\n",
    "        solu2 = next_t[p+1]\n",
    "        train = []\n",
    "        for j in range(len(train0)-1):\n",
    "                train.append(0.5 * (train0[j] + train0[j+1]))\n",
    "        solu = 0.5 * (solu1 + solu2)\n",
    "        pair = {'input': train, 'solu': solu}\n",
    "        pairs.append(pair)\n",
    "    return pairs"
   ]
  },
  {
   "cell_type": "code",
   "execution_count": 3,
   "metadata": {},
   "outputs": [],
   "source": [
    "# the analytical representation of exact solution\n",
    "def heat_equ_analytical_solu(x, t):\n",
    "    return np.sin(np.pi * x) * np.exp(-np.power(np.pi, 2) * t)"
   ]
  },
  {
   "cell_type": "code",
   "execution_count": 4,
   "metadata": {},
   "outputs": [],
   "source": [
    "# restnet\n",
    "class ResNet(nn.Module):\n",
    "    def __init__(self, i, h, o):\n",
    "        super(ResNet, self).__init__()\n",
    "        self.linear1 = nn.Linear(i, h)\n",
    "        self.relu1 = nn.ReLU()\n",
    "        self.linear2 = nn.Linear(h, o)\n",
    "        self.relu2 = nn.ReLU()\n",
    "        \n",
    "    def forward(self, x):\n",
    "        out = self.linear1(x)\n",
    "        out = self.relu1(out)\n",
    "        out = self.linear2(out)\n",
    "        out = self.relu2(out)\n",
    "        return out + torch.mean(x)\n",
    "\n",
    "    def load_model(self, save_path):\n",
    "        self.load_state_dict(torch.load(save_path))\n",
    "\n",
    "    def save_model(self, save_path):\n",
    "        torch.save(self.state_dict(), save_path)"
   ]
  },
  {
   "cell_type": "code",
   "execution_count": 5,
   "metadata": {},
   "outputs": [],
   "source": [
    "def calc_next_time(current, model, length=3):\n",
    "    ret = []\n",
    "    p = np.hstack(([0 for i in range(length)], current, [0 for i in range(length)])).tolist()\n",
    "    for index in range(len(current)):\n",
    "        i = index + 3\n",
    "        seg = p[i-length:i+length+1]\n",
    "        tensor_seg = torch.FloatTensor(seg)\n",
    "        out = model(tensor_seg)\n",
    "        ret.append(out.item())\n",
    "    return ret"
   ]
  },
  {
   "cell_type": "markdown",
   "metadata": {},
   "source": [
    "## $\\Delta x=\\frac{1}{20}$ $\\Delta t=\\frac{1}{20}$"
   ]
  },
  {
   "cell_type": "code",
   "execution_count": 6,
   "metadata": {},
   "outputs": [],
   "source": [
    "x_1 = arange(0, 2 * np.pi, 1/20)\n",
    "t_1 = arange(0, 2 * np.pi, 1/20)\n",
    "X_1,T_1 = meshgrid(x_1, t_1) # grid of point\n",
    "Z_1 = heat_equ_analytical_solu(X_1, T_1) # evaluation of the function on the grid"
   ]
  },
  {
   "cell_type": "code",
   "execution_count": 7,
   "metadata": {},
   "outputs": [],
   "source": [
    "padding_1 = []\n",
    "for z in Z_1:\n",
    "    p = np.hstack(([0,0,0], z, [0,0,0]))\n",
    "    padding_1.append(p.tolist())"
   ]
  },
  {
   "cell_type": "code",
   "execution_count": 8,
   "metadata": {},
   "outputs": [
    {
     "data": {
      "text/plain": [
       "ResNet(\n",
       "  (linear1): Linear(in_features=7, out_features=6, bias=True)\n",
       "  (relu1): ReLU()\n",
       "  (linear2): Linear(in_features=6, out_features=1, bias=True)\n",
       "  (relu2): ReLU()\n",
       ")"
      ]
     },
     "execution_count": 8,
     "metadata": {},
     "output_type": "execute_result"
    }
   ],
   "source": [
    "model_1 = ResNet(7, 6, 1)\n",
    "optimizer_1 = optim.Adam(model_1.parameters(), lr=0.001, betas=(0.9, 0.999), eps=1e-08, weight_decay=0, amsgrad=False)\n",
    "criterion_1 = nn.MSELoss()\n",
    "model_1.train()"
   ]
  },
  {
   "cell_type": "code",
   "execution_count": 9,
   "metadata": {},
   "outputs": [],
   "source": [
    "model_1.load_model(\"model_xx delta x=1 20 delta t=1 20\")"
   ]
  },
  {
   "cell_type": "code",
   "execution_count": 10,
   "metadata": {
    "scrolled": true
   },
   "outputs": [
    {
     "name": "stdout",
     "output_type": "stream",
     "text": [
      "time 0 is done \", an example is:\" 0.1313488483428955\n",
      "time 1 is done \", an example is:\" 0.08018821477890015\n",
      "time 2 is done \", an example is:\" 0.04895474761724472\n",
      "time 3 is done \", an example is:\" 0.029886778444051743\n",
      "time 4 is done \", an example is:\" 0.018245818093419075\n",
      "time 5 is done \", an example is:\" 0.01113903522491455\n",
      "time 6 is done \", an example is:\" 0.006800359580665827\n",
      "time 7 is done \", an example is:\" 0.004151606000959873\n",
      "time 8 is done \", an example is:\" 0.0025345473550260067\n",
      "time 9 is done \", an example is:\" 0.0015473359962925315\n",
      "time 10 is done \", an example is:\" 0.0009446456097066402\n",
      "time 11 is done \", an example is:\" 0.0005767042748630047\n",
      "time 12 is done \", an example is:\" 0.00035207680775783956\n",
      "time 13 is done \", an example is:\" 0.00021494222164619714\n",
      "time 14 is done \", an example is:\" 0.0001312217937083915\n",
      "time 15 is done \", an example is:\" 8.011063619051129e-05\n",
      "time 16 is done \", an example is:\" 4.8907390009844676e-05\n",
      "time 17 is done \", an example is:\" 2.9857865229132585e-05\n",
      "time 18 is done \", an example is:\" 1.8228167391498573e-05\n",
      "time 19 is done \", an example is:\" 1.1128261576232035e-05\n",
      "time 20 is done \", an example is:\" 6.793780812586192e-06\n",
      "time 21 is done \", an example is:\" 4.147590061620576e-06\n",
      "time 22 is done \", an example is:\" 2.5320955501229037e-06\n",
      "time 23 is done \", an example is:\" 1.5458392681466648e-06\n",
      "time 24 is done \", an example is:\" 9.437318340133061e-07\n",
      "time 25 is done \", an example is:\" 5.761464194620203e-07\n",
      "time 26 is done \", an example is:\" 3.51736247239387e-07\n",
      "time 27 is done \", an example is:\" 2.1473428546414652e-07\n",
      "time 28 is done \", an example is:\" 1.310948647414989e-07\n",
      "time 29 is done \", an example is:\" 8.003315343785289e-08\n",
      "time 30 is done \", an example is:\" 4.886007687332494e-08\n",
      "time 31 is done \", an example is:\" 2.982898550385471e-08\n",
      "time 32 is done \", an example is:\" 1.8210537078289235e-08\n",
      "time 33 is done \", an example is:\" 1.1117495368750951e-08\n",
      "time 34 is done \", an example is:\" 6.787209905212421e-09\n",
      "time 35 is done \", an example is:\" 4.143577481130478e-09\n",
      "time 36 is done \", an example is:\" 2.529646048188283e-09\n",
      "time 37 is done \", an example is:\" 1.5443438750040173e-09\n",
      "time 38 is done \", an example is:\" 9.42818934035472e-10\n",
      "time 39 is done \", an example is:\" 5.755890764014282e-10\n",
      "time 40 is done \", an example is:\" 3.513959956347179e-10\n",
      "time 41 is done \", an example is:\" 2.1452657705811617e-10\n",
      "time 42 is done \", an example is:\" 1.3096804196699452e-10\n",
      "time 43 is done \", an example is:\" 7.995572953722885e-11\n",
      "time 44 is done \", an example is:\" 4.8812818370658206e-11\n",
      "time 45 is done \", an example is:\" 2.980012764330908e-11\n",
      "time 46 is done \", an example is:\" 1.8192919393200668e-11\n",
      "time 47 is done \", an example is:\" 1.1106741394650843e-11\n",
      "time 48 is done \", an example is:\" 6.780643321130375e-12\n",
      "time 49 is done \", an example is:\" 4.139569763361717e-12\n",
      "time 50 is done \", an example is:\" 2.527198936230768e-12\n",
      "time 51 is done \", an example is:\" 1.5428500491077024e-12\n",
      "time 52 is done \", an example is:\" 9.419069257193824e-13\n",
      "time 53 is done \", an example is:\" 5.750323177691752e-13\n",
      "time 54 is done \", an example is:\" 3.510560711485894e-13\n",
      "time 55 is done \", an example is:\" 2.1431905458235007e-13\n",
      "time 56 is done \", an example is:\" 1.3084136909775196e-13\n",
      "time 57 is done \", an example is:\" 7.98783917699622e-14\n",
      "time 58 is done \", an example is:\" 4.8765597679759076e-14\n",
      "time 59 is done \", an example is:\" 2.977130057779144e-14\n",
      "time 60 is done \", an example is:\" 1.8175321274058187e-14\n",
      "time 61 is done \", an example is:\" 1.1095997777825668e-14\n",
      "time 62 is done \", an example is:\" 6.774084585777591e-15\n",
      "time 63 is done \", an example is:\" 4.135565096619184e-15\n",
      "time 64 is done \", an example is:\" 2.524754494012682e-15\n",
      "time 65 is done \", an example is:\" 1.5413576067007935e-15\n",
      "time 66 is done \", an example is:\" 9.409957944008776e-16\n",
      "time 67 is done \", an example is:\" 5.744760089757917e-16\n",
      "time 68 is done \", an example is:\" 3.507165064397052e-16\n",
      "time 69 is done \", an example is:\" 2.1411173109241096e-16\n",
      "time 70 is done \", an example is:\" 1.3071478616477367e-16\n",
      "time 71 is done \", an example is:\" 7.980112463042027e-17\n",
      "time 72 is done \", an example is:\" 4.871842675903362e-17\n",
      "time 73 is done \", an example is:\" 2.974250315165069e-17\n",
      "time 74 is done \", an example is:\" 1.815773941117203e-17\n",
      "time 75 is done \", an example is:\" 1.1085264110143613e-17\n",
      "time 76 is done \", an example is:\" 6.767531859488293e-18\n",
      "time 77 is done \", an example is:\" 4.131564914042604e-18\n",
      "time 78 is done \", an example is:\" 2.5223121224857498e-18\n",
      "time 79 is done \", an example is:\" 1.5398665036316452e-18\n",
      "time 80 is done \", an example is:\" 9.400855962876875e-19\n",
      "time 81 is done \", an example is:\" 5.739203462634061e-19\n",
      "time 82 is done \", an example is:\" 3.5037721556399975e-19\n",
      "time 83 is done \", an example is:\" 2.139046283314824e-19\n",
      "time 84 is done \", an example is:\" 1.305883345475448e-19\n",
      "time 85 is done \", an example is:\" 7.972392593180223e-20\n",
      "time 86 is done \", an example is:\" 4.867130078027161e-20\n",
      "time 87 is done \", an example is:\" 2.971373316371124e-20\n",
      "time 88 is done \", an example is:\" 1.8140174230864466e-20\n",
      "time 89 is done \", an example is:\" 1.107454122569142e-20\n",
      "time 90 is done \", an example is:\" 6.760985778302747e-21\n",
      "time 91 is done \", an example is:\" 4.12756865263817e-21\n",
      "time 92 is done \", an example is:\" 2.519872248255861e-21\n",
      "time 93 is done \", an example is:\" 1.5383771140477487e-21\n",
      "time 94 is done \", an example is:\" 9.39176141900341e-22\n",
      "time 95 is done \", an example is:\" 5.733651590344699e-22\n",
      "time 96 is done \", an example is:\" 3.500383086002649e-22\n",
      "time 97 is done \", an example is:\" 2.1369769868071526e-22\n",
      "time 98 is done \", an example is:\" 1.3046200583206819e-22\n",
      "time 99 is done \", an example is:\" 7.964681118111115e-23\n",
      "time 100 is done \", an example is:\" 4.862421868368344e-23\n",
      "time 101 is done \", an example is:\" 2.96849904802041e-23\n",
      "time 102 is done \", an example is:\" 1.812262621566533e-23\n",
      "time 103 is done \", an example is:\" 1.1063828627127151e-23\n",
      "time 104 is done \", an example is:\" 6.75444558497305e-24\n",
      "time 105 is done \", an example is:\" 4.123575138968797e-24\n",
      "time 106 is done \", an example is:\" 2.5174346144161865e-24\n",
      "time 107 is done \", an example is:\" 1.5368888908735868e-24\n",
      "time 108 is done \", an example is:\" 9.382677094034111e-25\n",
      "time 109 is done \", an example is:\" 5.728105401198625e-25\n",
      "time 110 is done \", an example is:\" 3.4969969735366216e-25\n",
      "time 111 is done \", an example is:\" 2.134909798498696e-25\n",
      "time 112 is done \", an example is:\" 1.3033582062774516e-25\n",
      "time 113 is done \", an example is:\" 7.956976791896745e-26\n",
      "time 114 is done \", an example is:\" 4.857718248243109e-26\n",
      "time 115 is done \", an example is:\" 2.9656273552019434e-26\n",
      "time 116 is done \", an example is:\" 1.8105097331920866e-26\n",
      "time 117 is done \", an example is:\" 1.1053125343876185e-26\n",
      "time 118 is done \", an example is:\" 6.747911561028668e-27\n",
      "time 119 is done \", an example is:\" 4.1195864918316524e-27\n",
      "time 120 is done \", an example is:\" 2.5149994994093823e-27\n",
      "time 121 is done \", an example is:\" 1.5354021962160362e-27\n",
      "time 122 is done \", an example is:\" 9.373600224724813e-28\n",
      "time 123 is done \", an example is:\" 5.72256427348889e-28\n",
      "time 124 is done \", an example is:\" 3.4936142894415993e-28\n"
     ]
    }
   ],
   "source": [
    "prediction_1 = []\n",
    "prediction_1.append(torch.FloatTensor(Z_1[0]).tolist())\n",
    "for i in range(len(Z_1)-1):\n",
    "    prediction_1.append(calc_next_time(Z_1[i], model_1))\n",
    "    print(\"time\", i, \"is done\", '\", an example is:\"', prediction_1[i+1][0])"
   ]
  },
  {
   "cell_type": "code",
   "execution_count": 11,
   "metadata": {},
   "outputs": [],
   "source": [
    "diff_1 = (prediction_1-Z_1).tolist()"
   ]
  },
  {
   "cell_type": "code",
   "execution_count": 12,
   "metadata": {},
   "outputs": [],
   "source": [
    "import csv\n",
    "\n",
    "with open(\"prediction_11 xx.csv\", \"w\") as f:\n",
    "    writer = csv.writer(f)\n",
    "    writer.writerows(prediction_1)"
   ]
  },
  {
   "cell_type": "code",
   "execution_count": 13,
   "metadata": {},
   "outputs": [],
   "source": [
    "import csv\n",
    "\n",
    "with open(\"diff_11 xx.csv\", \"w\") as f:\n",
    "    writer = csv.writer(f)\n",
    "    writer.writerows(diff_1)"
   ]
  },
  {
   "cell_type": "markdown",
   "metadata": {},
   "source": [
    "## $\\Delta x=\\frac{1}{40}$ $\\Delta t=\\frac{1}{20}$"
   ]
  },
  {
   "cell_type": "code",
   "execution_count": 14,
   "metadata": {},
   "outputs": [],
   "source": [
    "x_2 = arange(0, 2 * np.pi, 1/40)\n",
    "t_2 = arange(0, 2 * np.pi, 1/20)\n",
    "X_2,T_2 = meshgrid(x_2, t_2) # grid of point\n",
    "Z_2 = heat_equ_analytical_solu(X_2, T_2) # evaluation of the function on the grid"
   ]
  },
  {
   "cell_type": "code",
   "execution_count": 15,
   "metadata": {},
   "outputs": [],
   "source": [
    "padding_2 = []\n",
    "for z in Z_2:\n",
    "    p = np.hstack(([0,0,0], z, [0,0,0]))\n",
    "    padding_2.append(p.tolist())"
   ]
  },
  {
   "cell_type": "code",
   "execution_count": 16,
   "metadata": {},
   "outputs": [
    {
     "data": {
      "text/plain": [
       "ResNet(\n",
       "  (linear1): Linear(in_features=7, out_features=6, bias=True)\n",
       "  (relu1): ReLU()\n",
       "  (linear2): Linear(in_features=6, out_features=1, bias=True)\n",
       "  (relu2): ReLU()\n",
       ")"
      ]
     },
     "execution_count": 16,
     "metadata": {},
     "output_type": "execute_result"
    }
   ],
   "source": [
    "model_2 = ResNet(7, 6, 1)\n",
    "optimizer_2 = optim.Adam(model_2.parameters(), lr=0.001, betas=(0.9, 0.999), eps=1e-08, weight_decay=0, amsgrad=False)\n",
    "criterion_2 = nn.MSELoss()\n",
    "model_2.train()"
   ]
  },
  {
   "cell_type": "code",
   "execution_count": 17,
   "metadata": {},
   "outputs": [],
   "source": [
    "model_2.load_model(\"model_xx delta x=1 40 delta t=1 20\")"
   ]
  },
  {
   "cell_type": "code",
   "execution_count": 18,
   "metadata": {
    "scrolled": true
   },
   "outputs": [
    {
     "name": "stdout",
     "output_type": "stream",
     "text": [
      "time 0 is done \", an example is:\" 0.06690555810928345\n",
      "time 1 is done \", an example is:\" 0.04084571450948715\n",
      "time 2 is done \", an example is:\" 0.02493622712790966\n",
      "time 3 is done \", an example is:\" 0.015223517082631588\n",
      "time 4 is done \", an example is:\" 0.009293926879763603\n",
      "time 5 is done \", an example is:\" 0.005673923995345831\n",
      "time 6 is done \", an example is:\" 0.0034639197401702404\n",
      "time 7 is done \", an example is:\" 0.0021147162187844515\n",
      "time 8 is done \", an example is:\" 0.0012910299701616168\n",
      "time 9 is done \", an example is:\" 0.0007881712517701089\n",
      "time 10 is done \", an example is:\" 0.00048117697588168085\n",
      "time 11 is done \", an example is:\" 0.0002982875448651612\n",
      "time 12 is done \", an example is:\" 0.00022809502843301743\n",
      "time 13 is done \", an example is:\" 0.00018524326151236892\n",
      "time 14 is done \", an example is:\" 0.00015907903434708714\n",
      "time 15 is done \", an example is:\" 0.00014310267579276115\n",
      "time 16 is done \", an example is:\" 0.00013334785762708634\n",
      "time 17 is done \", an example is:\" 0.00012739963131025434\n",
      "time 18 is done \", an example is:\" 0.00012375565711408854\n",
      "time 19 is done \", an example is:\" 0.00012153986608609557\n",
      "time 20 is done \", an example is:\" 0.00012018136476399377\n",
      "time 21 is done \", an example is:\" 0.0001193848074763082\n",
      "time 22 is done \", an example is:\" 0.0001188748428830877\n",
      "time 23 is done \", an example is:\" 0.00011856618948513642\n",
      "time 24 is done \", an example is:\" 0.00011836379417218268\n",
      "time 25 is done \", an example is:\" 0.00011825106776086614\n",
      "time 26 is done \", an example is:\" 0.0001181665575131774\n",
      "time 27 is done \", an example is:\" 0.00011812657612608746\n",
      "time 28 is done \", an example is:\" 0.00011811377771664411\n",
      "time 29 is done \", an example is:\" 0.00011810266732936725\n",
      "time 30 is done \", an example is:\" 0.0001180867911898531\n",
      "time 31 is done \", an example is:\" 0.0001180770923383534\n",
      "time 32 is done \", an example is:\" 0.00011808607814600691\n",
      "time 33 is done \", an example is:\" 0.00011808246199507266\n",
      "time 34 is done \", an example is:\" 0.00011808025737991557\n",
      "time 35 is done \", an example is:\" 0.00011807891132775694\n",
      "time 36 is done \", an example is:\" 0.00011807808914454654\n",
      "time 37 is done \", an example is:\" 0.00011807758710347116\n",
      "time 38 is done \", an example is:\" 0.00011807728151325136\n",
      "time 39 is done \", an example is:\" 0.0001180770923383534\n",
      "time 40 is done \", an example is:\" 0.00011807698319898918\n",
      "time 41 is done \", an example is:\" 0.00011807691043941304\n",
      "time 42 is done \", an example is:\" 0.00011807686678366736\n",
      "time 43 is done \", an example is:\" 0.00011807684495579451\n",
      "time 44 is done \", an example is:\" 0.00011807682312792167\n",
      "time 45 is done \", an example is:\" 0.00011807681585196406\n",
      "time 46 is done \", an example is:\" 0.00011807680857600644\n",
      "time 47 is done \", an example is:\" 0.00011807680857600644\n",
      "time 48 is done \", an example is:\" 0.00011807680130004883\n",
      "time 49 is done \", an example is:\" 0.00011807680130004883\n",
      "time 50 is done \", an example is:\" 0.00011807680130004883\n",
      "time 51 is done \", an example is:\" 0.00011807680130004883\n",
      "time 52 is done \", an example is:\" 0.00011807680130004883\n",
      "time 53 is done \", an example is:\" 0.00011807680130004883\n",
      "time 54 is done \", an example is:\" 0.00011807680130004883\n",
      "time 55 is done \", an example is:\" 0.00011807680130004883\n",
      "time 56 is done \", an example is:\" 0.00011807680130004883\n",
      "time 57 is done \", an example is:\" 0.00011807680130004883\n",
      "time 58 is done \", an example is:\" 0.00011807680130004883\n",
      "time 59 is done \", an example is:\" 0.00011807680130004883\n",
      "time 60 is done \", an example is:\" 0.00011807680130004883\n",
      "time 61 is done \", an example is:\" 0.00011807680130004883\n",
      "time 62 is done \", an example is:\" 0.00011807680130004883\n",
      "time 63 is done \", an example is:\" 0.00011807680130004883\n",
      "time 64 is done \", an example is:\" 0.00011807680130004883\n",
      "time 65 is done \", an example is:\" 0.00011807680130004883\n",
      "time 66 is done \", an example is:\" 0.00011807680130004883\n",
      "time 67 is done \", an example is:\" 0.00011807680130004883\n",
      "time 68 is done \", an example is:\" 0.00011807680130004883\n",
      "time 69 is done \", an example is:\" 0.00011807680130004883\n",
      "time 70 is done \", an example is:\" 0.00011807680130004883\n",
      "time 71 is done \", an example is:\" 0.00011807680130004883\n",
      "time 72 is done \", an example is:\" 0.00011807680130004883\n",
      "time 73 is done \", an example is:\" 0.00011807680130004883\n",
      "time 74 is done \", an example is:\" 0.00011807680130004883\n",
      "time 75 is done \", an example is:\" 0.00011807680130004883\n",
      "time 76 is done \", an example is:\" 0.00011807680130004883\n",
      "time 77 is done \", an example is:\" 0.00011807680130004883\n",
      "time 78 is done \", an example is:\" 0.00011807680130004883\n",
      "time 79 is done \", an example is:\" 0.00011807680130004883\n",
      "time 80 is done \", an example is:\" 0.00011807680130004883\n",
      "time 81 is done \", an example is:\" 0.00011807680130004883\n",
      "time 82 is done \", an example is:\" 0.00011807680130004883\n",
      "time 83 is done \", an example is:\" 0.00011807680130004883\n",
      "time 84 is done \", an example is:\" 0.00011807680130004883\n",
      "time 85 is done \", an example is:\" 0.00011807680130004883\n",
      "time 86 is done \", an example is:\" 0.00011807680130004883\n",
      "time 87 is done \", an example is:\" 0.00011807680130004883\n",
      "time 88 is done \", an example is:\" 0.00011807680130004883\n",
      "time 89 is done \", an example is:\" 0.00011807680130004883\n",
      "time 90 is done \", an example is:\" 0.00011807680130004883\n",
      "time 91 is done \", an example is:\" 0.00011807680130004883\n",
      "time 92 is done \", an example is:\" 0.00011807680130004883\n",
      "time 93 is done \", an example is:\" 0.00011807680130004883\n",
      "time 94 is done \", an example is:\" 0.00011807680130004883\n",
      "time 95 is done \", an example is:\" 0.00011807680130004883\n",
      "time 96 is done \", an example is:\" 0.00011807680130004883\n",
      "time 97 is done \", an example is:\" 0.00011807680130004883\n",
      "time 98 is done \", an example is:\" 0.00011807680130004883\n",
      "time 99 is done \", an example is:\" 0.00011807680130004883\n",
      "time 100 is done \", an example is:\" 0.00011807680130004883\n",
      "time 101 is done \", an example is:\" 0.00011807680130004883\n",
      "time 102 is done \", an example is:\" 0.00011807680130004883\n",
      "time 103 is done \", an example is:\" 0.00011807680130004883\n",
      "time 104 is done \", an example is:\" 0.00011807680130004883\n",
      "time 105 is done \", an example is:\" 0.00011807680130004883\n",
      "time 106 is done \", an example is:\" 0.00011807680130004883\n",
      "time 107 is done \", an example is:\" 0.00011807680130004883\n",
      "time 108 is done \", an example is:\" 0.00011807680130004883\n",
      "time 109 is done \", an example is:\" 0.00011807680130004883\n",
      "time 110 is done \", an example is:\" 0.00011807680130004883\n",
      "time 111 is done \", an example is:\" 0.00011807680130004883\n",
      "time 112 is done \", an example is:\" 0.00011807680130004883\n",
      "time 113 is done \", an example is:\" 0.00011807680130004883\n",
      "time 114 is done \", an example is:\" 0.00011807680130004883\n",
      "time 115 is done \", an example is:\" 0.00011807680130004883\n",
      "time 116 is done \", an example is:\" 0.00011807680130004883\n",
      "time 117 is done \", an example is:\" 0.00011807680130004883\n",
      "time 118 is done \", an example is:\" 0.00011807680130004883\n",
      "time 119 is done \", an example is:\" 0.00011807680130004883\n",
      "time 120 is done \", an example is:\" 0.00011807680130004883\n",
      "time 121 is done \", an example is:\" 0.00011807680130004883\n",
      "time 122 is done \", an example is:\" 0.00011807680130004883\n",
      "time 123 is done \", an example is:\" 0.00011807680130004883\n",
      "time 124 is done \", an example is:\" 0.00011807680130004883\n"
     ]
    }
   ],
   "source": [
    "prediction_2 = []\n",
    "prediction_2.append(torch.FloatTensor(Z_2[0]).tolist())\n",
    "for i in range(len(Z_2)-1):\n",
    "    prediction_2.append(calc_next_time(Z_2[i], model_2))\n",
    "    print(\"time\", i, \"is done\", '\", an example is:\"', prediction_2[i+1][0])"
   ]
  },
  {
   "cell_type": "code",
   "execution_count": 19,
   "metadata": {},
   "outputs": [],
   "source": [
    "diff_2 = (prediction_2-Z_2).tolist()"
   ]
  },
  {
   "cell_type": "code",
   "execution_count": 20,
   "metadata": {},
   "outputs": [],
   "source": [
    "import csv\n",
    "\n",
    "with open(\"prediction_21 xx.csv\", \"w\") as f:\n",
    "    writer = csv.writer(f)\n",
    "    writer.writerows(prediction_2)"
   ]
  },
  {
   "cell_type": "code",
   "execution_count": 21,
   "metadata": {},
   "outputs": [],
   "source": [
    "import csv\n",
    "\n",
    "with open(\"diff_21 xx.csv\", \"w\") as f:\n",
    "    writer = csv.writer(f)\n",
    "    writer.writerows(diff_2)"
   ]
  },
  {
   "cell_type": "markdown",
   "metadata": {},
   "source": [
    "## $\\Delta x=\\frac{1}{80}$ $\\Delta t=\\frac{1}{20}$"
   ]
  },
  {
   "cell_type": "code",
   "execution_count": 22,
   "metadata": {},
   "outputs": [],
   "source": [
    "x_3 = arange(0, 2 * np.pi, 1/80)\n",
    "t_3 = arange(0, 2 * np.pi, 1/20)\n",
    "X_3,T_3 = meshgrid(x_3, t_3) # grid of point\n",
    "Z_3 = heat_equ_analytical_solu(X_3, T_3) # evaluation of the function on the grid"
   ]
  },
  {
   "cell_type": "code",
   "execution_count": 23,
   "metadata": {},
   "outputs": [],
   "source": [
    "padding_3 = []\n",
    "for z in Z_3:\n",
    "    p = np.hstack(([0,0,0], z, [0,0,0]))\n",
    "    padding_3.append(p.tolist())"
   ]
  },
  {
   "cell_type": "code",
   "execution_count": 24,
   "metadata": {},
   "outputs": [
    {
     "data": {
      "text/plain": [
       "ResNet(\n",
       "  (linear1): Linear(in_features=7, out_features=6, bias=True)\n",
       "  (relu1): ReLU()\n",
       "  (linear2): Linear(in_features=6, out_features=1, bias=True)\n",
       "  (relu2): ReLU()\n",
       ")"
      ]
     },
     "execution_count": 24,
     "metadata": {},
     "output_type": "execute_result"
    }
   ],
   "source": [
    "model_3 = ResNet(7, 6, 1)\n",
    "optimizer_3 = optim.Adam(model_3.parameters(), lr=0.001, betas=(0.9, 0.999), eps=1e-08, weight_decay=0, amsgrad=False)\n",
    "criterion_3 = nn.MSELoss()\n",
    "model_3.train()"
   ]
  },
  {
   "cell_type": "code",
   "execution_count": 25,
   "metadata": {},
   "outputs": [],
   "source": [
    "model_3.load_model(\"model_xx delta x=1 80 delta t=1 20\")"
   ]
  },
  {
   "cell_type": "code",
   "execution_count": 26,
   "metadata": {
    "scrolled": true
   },
   "outputs": [
    {
     "name": "stdout",
     "output_type": "stream",
     "text": [
      "time 0 is done \", an example is:\" 0.03360804542899132\n",
      "time 1 is done \", an example is:\" 0.02051764354109764\n",
      "time 2 is done \", an example is:\" 0.012525982223451138\n",
      "time 3 is done \", an example is:\" 0.00764708686619997\n",
      "time 4 is done \", an example is:\" 0.004668531473726034\n",
      "time 5 is done \", an example is:\" 0.002850129036232829\n",
      "time 6 is done \", an example is:\" 0.00173999834805727\n",
      "time 7 is done \", an example is:\" 0.0010622654808685184\n",
      "time 8 is done \", an example is:\" 0.0006485110498033464\n",
      "time 9 is done \", an example is:\" 0.00039591468521393836\n",
      "time 10 is done \", an example is:\" 0.00024170511460397393\n",
      "time 11 is done \", an example is:\" 0.00014756050950381905\n",
      "time 12 is done \", an example is:\" 9.008539927890524e-05\n",
      "time 13 is done \", an example is:\" 5.4996955441311e-05\n",
      "time 14 is done \", an example is:\" 3.3575535780983046e-05\n",
      "time 15 is done \", an example is:\" 2.049779868684709e-05\n",
      "time 16 is done \", an example is:\" 1.2513864021457266e-05\n",
      "time 17 is done \", an example is:\" 7.63969001127407e-06\n",
      "time 18 is done \", an example is:\" 4.664015705202473e-06\n",
      "time 19 is done \", an example is:\" 2.8473721158661647e-06\n",
      "time 20 is done \", an example is:\" 1.7383151771355188e-06\n",
      "time 21 is done \", an example is:\" 1.061237867361342e-06\n",
      "time 22 is done \", an example is:\" 6.478836667156429e-07\n",
      "time 23 is done \", an example is:\" 3.9553171404804743e-07\n",
      "time 24 is done \", an example is:\" 2.4147132648977276e-07\n",
      "time 25 is done \", an example is:\" 1.4741775089532894e-07\n",
      "time 26 is done \", an example is:\" 8.999825240607606e-08\n",
      "time 27 is done \", an example is:\" 5.4943757987757635e-08\n",
      "time 28 is done \", an example is:\" 3.354305633251897e-08\n",
      "time 29 is done \", an example is:\" 2.0477969542298524e-08\n",
      "time 30 is done \", an example is:\" 1.2501759627525644e-08\n",
      "time 31 is done \", an example is:\" 7.632300125237634e-09\n",
      "time 32 is done \", an example is:\" 4.6595038938335165e-09\n",
      "time 33 is done \", an example is:\" 2.8446180966312795e-09\n",
      "time 34 is done \", an example is:\" 1.7366337257129771e-09\n",
      "time 35 is done \", an example is:\" 1.0602113631463794e-09\n",
      "time 36 is done \", an example is:\" 6.472569702431485e-10\n",
      "time 37 is done \", an example is:\" 3.951491078790781e-10\n",
      "time 38 is done \", an example is:\" 2.412377242411168e-10\n",
      "time 39 is done \", an example is:\" 1.4727517816393032e-10\n",
      "time 40 is done \", an example is:\" 8.991119654355728e-11\n",
      "time 41 is done \", an example is:\" 5.4890609418878356e-11\n",
      "time 42 is done \", an example is:\" 3.351060748335577e-11\n",
      "time 43 is done \", an example is:\" 2.0458159472047655e-11\n",
      "time 44 is done \", an example is:\" 1.2489666419146506e-11\n",
      "time 45 is done \", an example is:\" 7.624916323334396e-12\n",
      "time 46 is done \", an example is:\" 4.654996440395243e-12\n",
      "time 47 is done \", an example is:\" 2.841866065389498e-12\n",
      "time 48 is done \", an example is:\" 1.7349536520980258e-12\n",
      "time 49 is done \", an example is:\" 1.0591857252384429e-12\n",
      "time 50 is done \", an example is:\" 6.466308608357729e-13\n",
      "time 51 is done \", an example is:\" 3.9476687435473223e-13\n",
      "time 52 is done \", an example is:\" 2.410044006809914e-13\n",
      "time 53 is done \", an example is:\" 1.4713271291426355e-13\n",
      "time 54 is done \", an example is:\" 8.98242187553043e-14\n",
      "time 55 is done \", an example is:\" 5.483750931643827e-14\n",
      "time 56 is done \", an example is:\" 3.347819119365117e-14\n",
      "time 57 is done \", an example is:\" 2.0438371386489497e-14\n",
      "time 58 is done \", an example is:\" 1.2477583900729738e-14\n",
      "time 59 is done \", an example is:\" 7.61754093641211e-15\n",
      "time 60 is done \", an example is:\" 4.650493365914018e-15\n",
      "time 61 is done \", an example is:\" 2.8391170081007227e-15\n",
      "time 62 is done \", an example is:\" 1.7332753672743575e-15\n",
      "time 63 is done \", an example is:\" 1.058161203313355e-15\n",
      "time 64 is done \", an example is:\" 6.460053473330164e-16\n",
      "time 65 is done \", an example is:\" 3.9438497239804545e-16\n",
      "time 66 is done \", an example is:\" 2.40771232839403e-16\n",
      "time 67 is done \", an example is:\" 1.4699037866247724e-16\n",
      "time 68 is done \", an example is:\" 8.973733064497055e-17\n",
      "time 69 is done \", an example is:\" 5.478446644568509e-17\n",
      "time 70 is done \", an example is:\" 3.3445807297662844e-17\n",
      "time 71 is done \", an example is:\" 2.0418599387569315e-17\n",
      "time 72 is done \", an example is:\" 1.2465513396681233e-17\n",
      "time 73 is done \", an example is:\" 7.610172477689937e-18\n",
      "time 74 is done \", an example is:\" 4.645994740843926e-18\n",
      "time 75 is done \", an example is:\" 2.8363706807859017e-18\n",
      "time 76 is done \", an example is:\" 1.7315986978153115e-18\n",
      "time 77 is done \", an example is:\" 1.0571375466258054e-18\n",
      "time 78 is done \", an example is:\" 6.453803759842856e-19\n",
      "time 79 is done \", an example is:\" 3.940034965518707e-19\n",
      "time 80 is done \", an example is:\" 2.405383577155267e-19\n",
      "time 81 is done \", an example is:\" 1.4684819799910553e-19\n",
      "time 82 is done \", an example is:\" 8.965052625979045e-20\n",
      "time 83 is done \", an example is:\" 5.473147151707945e-20\n",
      "time 84 is done \", an example is:\" 3.341345031854524e-20\n",
      "time 85 is done \", an example is:\" 2.0398847438990194e-20\n",
      "time 86 is done \", an example is:\" 1.2453456153578719e-20\n",
      "time 87 is done \", an example is:\" 7.602810072637378e-21\n",
      "time 88 is done \", an example is:\" 4.641500652420054e-21\n",
      "time 89 is done \", an example is:\" 2.833627145645088e-21\n",
      "time 90 is done \", an example is:\" 1.729923648996956e-21\n",
      "time 91 is done \", an example is:\" 1.0561150649547781e-21\n",
      "time 92 is done \", an example is:\" 6.447561369456597e-22\n",
      "time 93 is done \", an example is:\" 3.93622330877423e-22\n",
      "time 94 is done \", an example is:\" 2.403056614694579e-22\n",
      "time 95 is done \", an example is:\" 1.467061286181834e-22\n",
      "time 96 is done \", an example is:\" 8.956380250169795e-23\n",
      "time 97 is done \", an example is:\" 5.467852418286297e-23\n",
      "time 98 is done \", an example is:\" 3.338113198730111e-23\n",
      "time 99 is done \", an example is:\" 2.037911550339572e-23\n",
      "time 100 is done \", an example is:\" 1.2441409326166457e-23\n",
      "time 101 is done \", an example is:\" 7.595455718055507e-24\n",
      "time 102 is done \", an example is:\" 4.637010781158229e-24\n",
      "time 103 is done \", an example is:\" 2.8308859313078135e-24\n",
      "time 104 is done \", an example is:\" 1.728250276224034e-24\n",
      "time 105 is done \", an example is:\" 1.0550933749088248e-24\n",
      "time 106 is done \", an example is:\" 6.441324406370257e-25\n",
      "time 107 is done \", an example is:\" 3.9324158992253126e-25\n",
      "time 108 is done \", an example is:\" 2.4007320112119873e-25\n",
      "time 109 is done \", an example is:\" 1.4656421786614524e-25\n",
      "time 110 is done \", an example is:\" 8.947717063525129e-26\n",
      "time 111 is done \", an example is:\" 5.462562864328138e-26\n",
      "time 112 is done \", an example is:\" 3.334884208620957e-26\n",
      "time 113 is done \", an example is:\" 2.0359401413314036e-26\n",
      "time 114 is done \", an example is:\" 1.2429374852463882e-26\n",
      "time 115 is done \", an example is:\" 7.588108514103311e-27\n",
      "time 116 is done \", an example is:\" 4.632525191710138e-27\n",
      "time 117 is done \", an example is:\" 2.8281476194609805e-27\n",
      "time 118 is done \", an example is:\" 1.726578669180663e-27\n",
      "time 119 is done \", an example is:\" 1.054072821549806e-27\n",
      "time 120 is done \", an example is:\" 6.435093352776544e-28\n",
      "time 121 is done \", an example is:\" 3.928611808176949e-28\n",
      "time 122 is done \", an example is:\" 2.3984099117002497e-28\n",
      "time 123 is done \", an example is:\" 1.4642244717774748e-28\n",
      "time 124 is done \", an example is:\" 8.939061197686849e-29\n"
     ]
    }
   ],
   "source": [
    "prediction_3 = []\n",
    "prediction_3.append(torch.FloatTensor(Z_3[0]).tolist())\n",
    "for i in range(len(Z_3)-1):\n",
    "    prediction_3.append(calc_next_time(Z_3[i], model_3))\n",
    "    print(\"time\", i, \"is done\", '\", an example is:\"', prediction_3[i+1][0])"
   ]
  },
  {
   "cell_type": "code",
   "execution_count": 27,
   "metadata": {},
   "outputs": [],
   "source": [
    "diff_3 = (prediction_3-Z_3).tolist()"
   ]
  },
  {
   "cell_type": "code",
   "execution_count": 28,
   "metadata": {},
   "outputs": [],
   "source": [
    "import csv\n",
    "\n",
    "with open(\"prediction_31 xx.csv\", \"w\") as f:\n",
    "    writer = csv.writer(f)\n",
    "    writer.writerows(prediction_3)"
   ]
  },
  {
   "cell_type": "code",
   "execution_count": 29,
   "metadata": {},
   "outputs": [],
   "source": [
    "import csv\n",
    "\n",
    "with open(\"diff_31 xx.csv\", \"w\") as f:\n",
    "    writer = csv.writer(f)\n",
    "    writer.writerows(diff_3)"
   ]
  },
  {
   "cell_type": "markdown",
   "metadata": {},
   "source": [
    "## $\\Delta x=\\frac{1}{160}$ $\\Delta t=\\frac{1}{20}$"
   ]
  },
  {
   "cell_type": "code",
   "execution_count": 30,
   "metadata": {},
   "outputs": [],
   "source": [
    "x_4 = arange(0, 2 * np.pi, 1/160)\n",
    "t_4 = arange(0, 2 * np.pi, 1/20)\n",
    "X_4,T_4 = meshgrid(x_4, t_4) # grid of point\n",
    "Z_4 = heat_equ_analytical_solu(X_4, T_4) # evaluation of the function on the grid"
   ]
  },
  {
   "cell_type": "code",
   "execution_count": 31,
   "metadata": {},
   "outputs": [],
   "source": [
    "padding_4 = []\n",
    "for z in Z_4:\n",
    "    p = np.hstack(([0,0,0], z, [0,0,0]))\n",
    "    padding_4.append(p.tolist())"
   ]
  },
  {
   "cell_type": "code",
   "execution_count": 32,
   "metadata": {},
   "outputs": [
    {
     "data": {
      "text/plain": [
       "ResNet(\n",
       "  (linear1): Linear(in_features=7, out_features=6, bias=True)\n",
       "  (relu1): ReLU()\n",
       "  (linear2): Linear(in_features=6, out_features=1, bias=True)\n",
       "  (relu2): ReLU()\n",
       ")"
      ]
     },
     "execution_count": 32,
     "metadata": {},
     "output_type": "execute_result"
    }
   ],
   "source": [
    "model_4 = ResNet(7, 6, 1)\n",
    "optimizer_4 = optim.Adam(model_4.parameters(), lr=0.001, betas=(0.9, 0.999), eps=1e-08, weight_decay=0, amsgrad=False)\n",
    "criterion_4 = nn.MSELoss()\n",
    "model_4.train()"
   ]
  },
  {
   "cell_type": "code",
   "execution_count": 33,
   "metadata": {},
   "outputs": [],
   "source": [
    "model_4.load_model(\"model_xx delta x=1 160 delta t=1 20\")"
   ]
  },
  {
   "cell_type": "code",
   "execution_count": 34,
   "metadata": {
    "scrolled": true
   },
   "outputs": [
    {
     "name": "stdout",
     "output_type": "stream",
     "text": [
      "time 0 is done \", an example is:\" 0.01682347245514393\n",
      "time 1 is done \", an example is:\" 0.010270697996020317\n",
      "time 2 is done \", an example is:\" 0.006270240526646376\n",
      "time 3 is done \", an example is:\" 0.0038279693108052015\n",
      "time 4 is done \", an example is:\" 0.0023369677364826202\n",
      "time 5 is done \", an example is:\" 0.0014267141232267022\n",
      "time 6 is done \", an example is:\" 0.0008710061083547771\n",
      "time 7 is done \", an example is:\" 0.0005317475297488272\n",
      "time 8 is done \", an example is:\" 0.00032463084789924324\n",
      "time 9 is done \", an example is:\" 0.00019818647706415504\n",
      "time 10 is done \", an example is:\" 0.00012099245941499248\n",
      "time 11 is done \", an example is:\" 7.38656526664272e-05\n",
      "time 12 is done \", an example is:\" 4.509483915171586e-05\n",
      "time 13 is done \", an example is:\" 2.753030821622815e-05\n",
      "time 14 is done \", an example is:\" 1.68071983353002e-05\n",
      "time 15 is done \", an example is:\" 1.0260760973324068e-05\n",
      "time 16 is done \", an example is:\" 6.264174771786202e-06\n",
      "time 17 is done \", an example is:\" 3.824266059382353e-06\n",
      "time 18 is done \", an example is:\" 2.3347072328760987e-06\n",
      "time 19 is done \", an example is:\" 1.4253340623326949e-06\n",
      "time 20 is done \", an example is:\" 8.70163603394758e-07\n",
      "time 21 is done \", an example is:\" 5.312331836648809e-07\n",
      "time 22 is done \", an example is:\" 3.2431680097033677e-07\n",
      "time 23 is done \", an example is:\" 1.9799479389348562e-07\n",
      "time 24 is done \", an example is:\" 1.2087541279015568e-07\n",
      "time 25 is done \", an example is:\" 7.379419741937454e-08\n",
      "time 26 is done \", an example is:\" 4.5051216090996604e-08\n",
      "time 27 is done \", an example is:\" 2.750367755766092e-08\n",
      "time 28 is done \", an example is:\" 1.6790940193800452e-08\n",
      "time 29 is done \", an example is:\" 1.025083662398174e-08\n",
      "time 30 is done \", an example is:\" 6.258115359258909e-09\n",
      "time 31 is done \", an example is:\" 3.820566973899986e-09\n",
      "time 32 is done \", an example is:\" 2.3324486786435727e-09\n",
      "time 33 is done \", an example is:\" 1.423955287016554e-09\n",
      "time 34 is done \", an example is:\" 8.693218922495305e-10\n",
      "time 35 is done \", an example is:\" 5.307193018389e-10\n",
      "time 36 is done \", an example is:\" 3.240030743700828e-10\n",
      "time 37 is done \", an example is:\" 1.978032321270362e-10\n",
      "time 38 is done \", an example is:\" 1.207584865436928e-10\n",
      "time 39 is done \", an example is:\" 7.372281951578685e-11\n",
      "time 40 is done \", an example is:\" 4.500763650661099e-11\n",
      "time 41 is done \", an example is:\" 2.747707270045474e-11\n",
      "time 42 is done \", an example is:\" 1.6774697950139306e-11\n",
      "time 43 is done \", an example is:\" 1.0240920091109107e-11\n",
      "time 44 is done \", an example is:\" 6.252061368616779e-12\n",
      "time 45 is done \", an example is:\" 3.816871298190083e-12\n",
      "time 46 is done \", an example is:\" 2.3301922457558133e-12\n",
      "time 47 is done \", an example is:\" 1.4225778758106267e-12\n",
      "time 48 is done \", an example is:\" 8.68481014101169e-13\n",
      "time 49 is done \", an example is:\" 5.302059247376534e-13\n",
      "time 50 is done \", an example is:\" 3.2368966990277415e-13\n",
      "time 51 is done \", an example is:\" 1.9761189212763597e-13\n",
      "time 52 is done \", an example is:\" 1.206416693974588e-13\n",
      "time 53 is done \", an example is:\" 7.365151376151693e-14\n",
      "time 54 is done \", an example is:\" 4.496409687182283e-14\n",
      "time 55 is done \", an example is:\" 2.7450492982752754e-14\n",
      "time 56 is done \", an example is:\" 1.6758472322526974e-14\n",
      "time 57 is done \", an example is:\" 1.0231013661320208e-14\n",
      "time 58 is done \", an example is:\" 6.246014176789633e-15\n",
      "time 59 is done \", an example is:\" 3.813179274696514e-15\n",
      "time 60 is done \", an example is:\" 2.3279383419051464e-15\n",
      "time 61 is done \", an example is:\" 1.4212017479680347e-15\n",
      "time 62 is done \", an example is:\" 8.67640888284083e-16\n",
      "time 63 is done \", an example is:\" 5.296930064775424e-16\n",
      "time 64 is done \", an example is:\" 3.2337655930338215e-16\n",
      "time 65 is done \", an example is:\" 1.9742074834341796e-16\n",
      "time 66 is done \", an example is:\" 1.2052496657441464e-16\n",
      "time 67 is done \", an example is:\" 7.358025658543357e-17\n",
      "time 68 is done \", an example is:\" 4.4920599030063804e-17\n",
      "time 69 is done \", an example is:\" 2.7423939055721703e-17\n",
      "time 70 is done \", an example is:\" 1.6742259675165163e-17\n",
      "time 71 is done \", an example is:\" 1.0221117623196203e-17\n",
      "time 72 is done \", an example is:\" 6.2399717812336104e-18\n",
      "time 73 is done \", an example is:\" 3.809490562016507e-18\n",
      "time 74 is done \", an example is:\" 2.3256863277982198e-18\n",
      "time 75 is done \", an example is:\" 1.4198268803185624e-18\n",
      "time 76 is done \", an example is:\" 8.668016333161286e-19\n",
      "time 77 is done \", an example is:\" 5.291806284722505e-19\n",
      "time 78 is done \", an example is:\" 3.2306371173749877e-19\n",
      "time 79 is done \", an example is:\" 1.972297787063615e-19\n",
      "time 80 is done \", an example is:\" 1.2040837784521955e-19\n",
      "time 81 is done \", an example is:\" 7.350907888279552e-20\n",
      "time 82 is done \", an example is:\" 4.487714932628732e-20\n",
      "time 83 is done \", an example is:\" 2.739741095988682e-20\n",
      "time 84 is done \", an example is:\" 1.672606535285245e-20\n",
      "time 85 is done \", an example is:\" 1.0211230430269585e-20\n",
      "time 86 is done \", an example is:\" 6.2339360187872214e-21\n",
      "time 87 is done \", an example is:\" 3.805805491774629e-21\n",
      "time 88 is done \", an example is:\" 2.3234368456652988e-21\n",
      "time 89 is done \", an example is:\" 1.418453393763445e-21\n",
      "time 90 is done \", an example is:\" 8.65963084624708e-22\n",
      "time 91 is done \", an example is:\" 5.286687292849798e-22\n",
      "time 92 is done \", an example is:\" 3.227512438572101e-22\n",
      "time 93 is done \", an example is:\" 1.9703900108991382e-22\n",
      "time 94 is done \", an example is:\" 1.2029191006776303e-22\n",
      "time 95 is done \", an example is:\" 7.343797729692969e-23\n",
      "time 96 is done \", an example is:\" 4.483373887865286e-23\n",
      "time 97 is done \", an example is:\" 2.737090803550533e-23\n",
      "time 98 is done \", an example is:\" 1.6709886774941228e-23\n",
      "time 99 is done \", an example is:\" 1.0201352799952725e-23\n",
      "time 100 is done \", an example is:\" 6.227905385426086e-24\n",
      "time 101 is done \", an example is:\" 3.802123786422097e-24\n",
      "time 102 is done \", an example is:\" 2.32118889816345e-24\n",
      "time 103 is done \", an example is:\" 1.4170813311464377e-24\n",
      "time 104 is done \", an example is:\" 8.651254137398373e-25\n",
      "time 105 is done \", an example is:\" 5.281573644026666e-25\n",
      "time 106 is done \", an example is:\" 3.2243900640003637e-25\n",
      "time 107 is done \", an example is:\" 1.968483813324219e-25\n",
      "time 108 is done \", an example is:\" 1.2017555101348306e-25\n",
      "time 109 is done \", an example is:\" 7.336693613228717e-26\n",
      "time 110 is done \", an example is:\" 4.479036664048242e-26\n",
      "time 111 is done \", an example is:\" 2.734443346909566e-26\n",
      "time 112 is done \", an example is:\" 1.6693721942635456e-26\n",
      "time 113 is done \", an example is:\" 1.0191484316428757e-26\n",
      "time 114 is done \", an example is:\" 6.221880774574227e-27\n",
      "time 115 is done \", an example is:\" 3.798446147696836e-27\n",
      "time 116 is done \", an example is:\" 2.318943875523645e-27\n",
      "time 117 is done \", an example is:\" 1.4157105612937277e-27\n",
      "time 118 is done \", an example is:\" 8.642886033419768e-28\n",
      "time 119 is done \", an example is:\" 5.276464972330363e-28\n",
      "time 120 is done \", an example is:\" 3.221271184159474e-28\n",
      "time 121 is done \", an example is:\" 1.9665797051290666e-28\n",
      "time 122 is done \", an example is:\" 1.200593069857542e-28\n",
      "time 123 is done \", an example is:\" 7.329597052495786e-29\n",
      "time 124 is done \", an example is:\" 4.474704128156535e-29\n"
     ]
    }
   ],
   "source": [
    "prediction_4 = []\n",
    "prediction_4.append(torch.FloatTensor(Z_4[0]).tolist())\n",
    "for i in range(len(Z_4)-1):\n",
    "    prediction_4.append(calc_next_time(Z_4[i], model_4))\n",
    "    print(\"time\", i, \"is done\", '\", an example is:\"', prediction_4[i+1][0])"
   ]
  },
  {
   "cell_type": "code",
   "execution_count": 35,
   "metadata": {},
   "outputs": [],
   "source": [
    "diff_4 = (prediction_4-Z_4).tolist()"
   ]
  },
  {
   "cell_type": "code",
   "execution_count": 36,
   "metadata": {},
   "outputs": [],
   "source": [
    "import csv\n",
    "\n",
    "with open(\"prediction_41 xx.csv\", \"w\") as f:\n",
    "    writer = csv.writer(f)\n",
    "    writer.writerows(prediction_4)"
   ]
  },
  {
   "cell_type": "code",
   "execution_count": 37,
   "metadata": {},
   "outputs": [],
   "source": [
    "import csv\n",
    "\n",
    "with open(\"diff_41 xx.csv\", \"w\") as f:\n",
    "    writer = csv.writer(f)\n",
    "    writer.writerows(diff_4)"
   ]
  }
 ],
 "metadata": {
  "kernelspec": {
   "display_name": "Python 3",
   "language": "python",
   "name": "python3"
  },
  "language_info": {
   "codemirror_mode": {
    "name": "ipython",
    "version": 3
   },
   "file_extension": ".py",
   "mimetype": "text/x-python",
   "name": "python",
   "nbconvert_exporter": "python",
   "pygments_lexer": "ipython3",
   "version": "3.8.5"
  }
 },
 "nbformat": 4,
 "nbformat_minor": 4
}
